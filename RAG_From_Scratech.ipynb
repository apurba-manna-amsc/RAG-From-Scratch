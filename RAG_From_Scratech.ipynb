{
 "cells": [
  {
   "cell_type": "markdown",
   "metadata": {
    "id": "DYFEKeEWWMSm"
   },
   "source": [
    "# RAG From Scratch — Step-by-Step Tutorial\n",
    "\n",
    "This notebook demonstrates how to implement a Retrieval-Augmented Generation (RAG) pipeline from scratch, **without relying on high-level RAG frameworks**.\n",
    "\n",
    "We will build:\n",
    "1. **Document Text Extraction** — Read text from PDF files.\n",
    "2. **Chunking with Overlap** — Split text into manageable pieces.\n",
    "3. **Embeddings** — Convert text chunks into vector representations.\n",
    "4. **Retrieval** — Find the most relevant chunks for a given query.\n",
    "5. **Answer Generation (Basic)** — Use retrieved chunks to form answers.\n",
    "\n",
    "**Goal:** Learn and understand each step of RAG by coding it ourselves.\n"
   ]
  },
  {
   "cell_type": "markdown",
   "metadata": {
    "id": "5Btoy9_kW7E1"
   },
   "source": [
    "## Step 0 — Environment & Setup\n",
    "Before starting, let's check our Python version and install required libraries.\n"
   ]
  },
  {
   "cell_type": "code",
   "execution_count": 2,
   "metadata": {
    "colab": {
     "base_uri": "https://localhost:8080/"
    },
    "id": "g44dVXUrWHv-",
    "outputId": "01302227-61b7-46d1-cee2-8acd83d30378"
   },
   "outputs": [
    {
     "name": "stdout",
     "output_type": "stream",
     "text": [
      "Python: 3.11.13\n",
      "Platform: Linux-6.1.123+-x86_64-with-glibc2.35\n"
     ]
    }
   ],
   "source": [
    "import sys, platform\n",
    "print(\"Python:\", sys.version.split()[0])\n",
    "print(\"Platform:\", platform.platform())\n"
   ]
  },
  {
   "cell_type": "markdown",
   "metadata": {
    "id": "BWIbSirpXD9R"
   },
   "source": [
    "### Install dependencies\n",
    "We will use:\n",
    "- `pdfplumber` for PDF text extraction\n",
    "- `sentence-transformers` for embeddings\n",
    "- `numpy` for similarity calculations\n"
   ]
  },
  {
   "cell_type": "code",
   "execution_count": 4,
   "metadata": {
    "colab": {
     "base_uri": "https://localhost:8080/"
    },
    "id": "kHCDAzTIW6Br",
    "outputId": "168f7549-a467-4b5a-b24f-76c8a09131fa"
   },
   "outputs": [
    {
     "name": "stdout",
     "output_type": "stream",
     "text": [
      "Collecting pdfplumber\n",
      "  Downloading pdfplumber-0.11.7-py3-none-any.whl.metadata (42 kB)\n",
      "\u001b[?25l     \u001b[90m━━━━━━━━━━━━━━━━━━━━━━━━━━━━━━━━━━━━━━━━\u001b[0m \u001b[32m0.0/42.8 kB\u001b[0m \u001b[31m?\u001b[0m eta \u001b[36m-:--:--\u001b[0m\r",
      "\u001b[2K     \u001b[90m━━━━━━━━━━━━━━━━━━━━━━━━━━━━━━━━━━━━━━━━\u001b[0m \u001b[32m42.8/42.8 kB\u001b[0m \u001b[31m1.5 MB/s\u001b[0m eta \u001b[36m0:00:00\u001b[0m\n",
      "\u001b[?25hRequirement already satisfied: sentence-transformers in /usr/local/lib/python3.11/dist-packages (5.0.0)\n",
      "Requirement already satisfied: numpy in /usr/local/lib/python3.11/dist-packages (2.0.2)\n",
      "Collecting pdfminer.six==20250506 (from pdfplumber)\n",
      "  Downloading pdfminer_six-20250506-py3-none-any.whl.metadata (4.2 kB)\n",
      "Requirement already satisfied: Pillow>=9.1 in /usr/local/lib/python3.11/dist-packages (from pdfplumber) (11.3.0)\n",
      "Collecting pypdfium2>=4.18.0 (from pdfplumber)\n",
      "  Downloading pypdfium2-4.30.0-py3-none-manylinux_2_17_x86_64.manylinux2014_x86_64.whl.metadata (48 kB)\n",
      "\u001b[2K     \u001b[90m━━━━━━━━━━━━━━━━━━━━━━━━━━━━━━━━━━━━━━━━\u001b[0m \u001b[32m48.5/48.5 kB\u001b[0m \u001b[31m3.2 MB/s\u001b[0m eta \u001b[36m0:00:00\u001b[0m\n",
      "\u001b[?25hRequirement already satisfied: charset-normalizer>=2.0.0 in /usr/local/lib/python3.11/dist-packages (from pdfminer.six==20250506->pdfplumber) (3.4.2)\n",
      "Requirement already satisfied: cryptography>=36.0.0 in /usr/local/lib/python3.11/dist-packages (from pdfminer.six==20250506->pdfplumber) (43.0.3)\n",
      "Requirement already satisfied: transformers<5.0.0,>=4.41.0 in /usr/local/lib/python3.11/dist-packages (from sentence-transformers) (4.55.0)\n",
      "Requirement already satisfied: tqdm in /usr/local/lib/python3.11/dist-packages (from sentence-transformers) (4.67.1)\n",
      "Requirement already satisfied: torch>=1.11.0 in /usr/local/lib/python3.11/dist-packages (from sentence-transformers) (2.6.0+cu124)\n",
      "Requirement already satisfied: scikit-learn in /usr/local/lib/python3.11/dist-packages (from sentence-transformers) (1.6.1)\n",
      "Requirement already satisfied: scipy in /usr/local/lib/python3.11/dist-packages (from sentence-transformers) (1.16.1)\n",
      "Requirement already satisfied: huggingface-hub>=0.20.0 in /usr/local/lib/python3.11/dist-packages (from sentence-transformers) (0.34.3)\n",
      "Requirement already satisfied: typing_extensions>=4.5.0 in /usr/local/lib/python3.11/dist-packages (from sentence-transformers) (4.14.1)\n",
      "Requirement already satisfied: filelock in /usr/local/lib/python3.11/dist-packages (from huggingface-hub>=0.20.0->sentence-transformers) (3.18.0)\n",
      "Requirement already satisfied: fsspec>=2023.5.0 in /usr/local/lib/python3.11/dist-packages (from huggingface-hub>=0.20.0->sentence-transformers) (2025.3.0)\n",
      "Requirement already satisfied: packaging>=20.9 in /usr/local/lib/python3.11/dist-packages (from huggingface-hub>=0.20.0->sentence-transformers) (25.0)\n",
      "Requirement already satisfied: pyyaml>=5.1 in /usr/local/lib/python3.11/dist-packages (from huggingface-hub>=0.20.0->sentence-transformers) (6.0.2)\n",
      "Requirement already satisfied: requests in /usr/local/lib/python3.11/dist-packages (from huggingface-hub>=0.20.0->sentence-transformers) (2.32.3)\n",
      "Requirement already satisfied: hf-xet<2.0.0,>=1.1.3 in /usr/local/lib/python3.11/dist-packages (from huggingface-hub>=0.20.0->sentence-transformers) (1.1.7)\n",
      "Requirement already satisfied: networkx in /usr/local/lib/python3.11/dist-packages (from torch>=1.11.0->sentence-transformers) (3.5)\n",
      "Requirement already satisfied: jinja2 in /usr/local/lib/python3.11/dist-packages (from torch>=1.11.0->sentence-transformers) (3.1.6)\n",
      "Collecting nvidia-cuda-nvrtc-cu12==12.4.127 (from torch>=1.11.0->sentence-transformers)\n",
      "  Downloading nvidia_cuda_nvrtc_cu12-12.4.127-py3-none-manylinux2014_x86_64.whl.metadata (1.5 kB)\n",
      "Collecting nvidia-cuda-runtime-cu12==12.4.127 (from torch>=1.11.0->sentence-transformers)\n",
      "  Downloading nvidia_cuda_runtime_cu12-12.4.127-py3-none-manylinux2014_x86_64.whl.metadata (1.5 kB)\n",
      "Collecting nvidia-cuda-cupti-cu12==12.4.127 (from torch>=1.11.0->sentence-transformers)\n",
      "  Downloading nvidia_cuda_cupti_cu12-12.4.127-py3-none-manylinux2014_x86_64.whl.metadata (1.6 kB)\n",
      "Collecting nvidia-cudnn-cu12==9.1.0.70 (from torch>=1.11.0->sentence-transformers)\n",
      "  Downloading nvidia_cudnn_cu12-9.1.0.70-py3-none-manylinux2014_x86_64.whl.metadata (1.6 kB)\n",
      "Collecting nvidia-cublas-cu12==12.4.5.8 (from torch>=1.11.0->sentence-transformers)\n",
      "  Downloading nvidia_cublas_cu12-12.4.5.8-py3-none-manylinux2014_x86_64.whl.metadata (1.5 kB)\n",
      "Collecting nvidia-cufft-cu12==11.2.1.3 (from torch>=1.11.0->sentence-transformers)\n",
      "  Downloading nvidia_cufft_cu12-11.2.1.3-py3-none-manylinux2014_x86_64.whl.metadata (1.5 kB)\n",
      "Collecting nvidia-curand-cu12==10.3.5.147 (from torch>=1.11.0->sentence-transformers)\n",
      "  Downloading nvidia_curand_cu12-10.3.5.147-py3-none-manylinux2014_x86_64.whl.metadata (1.5 kB)\n",
      "Collecting nvidia-cusolver-cu12==11.6.1.9 (from torch>=1.11.0->sentence-transformers)\n",
      "  Downloading nvidia_cusolver_cu12-11.6.1.9-py3-none-manylinux2014_x86_64.whl.metadata (1.6 kB)\n",
      "Collecting nvidia-cusparse-cu12==12.3.1.170 (from torch>=1.11.0->sentence-transformers)\n",
      "  Downloading nvidia_cusparse_cu12-12.3.1.170-py3-none-manylinux2014_x86_64.whl.metadata (1.6 kB)\n",
      "Requirement already satisfied: nvidia-cusparselt-cu12==0.6.2 in /usr/local/lib/python3.11/dist-packages (from torch>=1.11.0->sentence-transformers) (0.6.2)\n",
      "Collecting nvidia-nccl-cu12==2.21.5 (from torch>=1.11.0->sentence-transformers)\n",
      "  Downloading nvidia_nccl_cu12-2.21.5-py3-none-manylinux2014_x86_64.whl.metadata (1.8 kB)\n",
      "Requirement already satisfied: nvidia-nvtx-cu12==12.4.127 in /usr/local/lib/python3.11/dist-packages (from torch>=1.11.0->sentence-transformers) (12.4.127)\n",
      "Collecting nvidia-nvjitlink-cu12==12.4.127 (from torch>=1.11.0->sentence-transformers)\n",
      "  Downloading nvidia_nvjitlink_cu12-12.4.127-py3-none-manylinux2014_x86_64.whl.metadata (1.5 kB)\n",
      "Requirement already satisfied: triton==3.2.0 in /usr/local/lib/python3.11/dist-packages (from torch>=1.11.0->sentence-transformers) (3.2.0)\n",
      "Requirement already satisfied: sympy==1.13.1 in /usr/local/lib/python3.11/dist-packages (from torch>=1.11.0->sentence-transformers) (1.13.1)\n",
      "Requirement already satisfied: mpmath<1.4,>=1.1.0 in /usr/local/lib/python3.11/dist-packages (from sympy==1.13.1->torch>=1.11.0->sentence-transformers) (1.3.0)\n",
      "Requirement already satisfied: regex!=2019.12.17 in /usr/local/lib/python3.11/dist-packages (from transformers<5.0.0,>=4.41.0->sentence-transformers) (2024.11.6)\n",
      "Requirement already satisfied: tokenizers<0.22,>=0.21 in /usr/local/lib/python3.11/dist-packages (from transformers<5.0.0,>=4.41.0->sentence-transformers) (0.21.4)\n",
      "Requirement already satisfied: safetensors>=0.4.3 in /usr/local/lib/python3.11/dist-packages (from transformers<5.0.0,>=4.41.0->sentence-transformers) (0.6.1)\n",
      "Requirement already satisfied: joblib>=1.2.0 in /usr/local/lib/python3.11/dist-packages (from scikit-learn->sentence-transformers) (1.5.1)\n",
      "Requirement already satisfied: threadpoolctl>=3.1.0 in /usr/local/lib/python3.11/dist-packages (from scikit-learn->sentence-transformers) (3.6.0)\n",
      "Requirement already satisfied: cffi>=1.12 in /usr/local/lib/python3.11/dist-packages (from cryptography>=36.0.0->pdfminer.six==20250506->pdfplumber) (1.17.1)\n",
      "Requirement already satisfied: MarkupSafe>=2.0 in /usr/local/lib/python3.11/dist-packages (from jinja2->torch>=1.11.0->sentence-transformers) (3.0.2)\n",
      "Requirement already satisfied: idna<4,>=2.5 in /usr/local/lib/python3.11/dist-packages (from requests->huggingface-hub>=0.20.0->sentence-transformers) (3.10)\n",
      "Requirement already satisfied: urllib3<3,>=1.21.1 in /usr/local/lib/python3.11/dist-packages (from requests->huggingface-hub>=0.20.0->sentence-transformers) (2.5.0)\n",
      "Requirement already satisfied: certifi>=2017.4.17 in /usr/local/lib/python3.11/dist-packages (from requests->huggingface-hub>=0.20.0->sentence-transformers) (2025.8.3)\n",
      "Requirement already satisfied: pycparser in /usr/local/lib/python3.11/dist-packages (from cffi>=1.12->cryptography>=36.0.0->pdfminer.six==20250506->pdfplumber) (2.22)\n",
      "Downloading pdfplumber-0.11.7-py3-none-any.whl (60 kB)\n",
      "\u001b[2K   \u001b[90m━━━━━━━━━━━━━━━━━━━━━━━━━━━━━━━━━━━━━━━━\u001b[0m \u001b[32m60.0/60.0 kB\u001b[0m \u001b[31m3.9 MB/s\u001b[0m eta \u001b[36m0:00:00\u001b[0m\n",
      "\u001b[?25hDownloading pdfminer_six-20250506-py3-none-any.whl (5.6 MB)\n",
      "\u001b[2K   \u001b[90m━━━━━━━━━━━━━━━━━━━━━━━━━━━━━━━━━━━━━━━━\u001b[0m \u001b[32m5.6/5.6 MB\u001b[0m \u001b[31m55.7 MB/s\u001b[0m eta \u001b[36m0:00:00\u001b[0m\n",
      "\u001b[?25hDownloading pypdfium2-4.30.0-py3-none-manylinux_2_17_x86_64.manylinux2014_x86_64.whl (2.8 MB)\n",
      "\u001b[2K   \u001b[90m━━━━━━━━━━━━━━━━━━━━━━━━━━━━━━━━━━━━━━━━\u001b[0m \u001b[32m2.8/2.8 MB\u001b[0m \u001b[31m72.9 MB/s\u001b[0m eta \u001b[36m0:00:00\u001b[0m\n",
      "\u001b[?25hDownloading nvidia_cublas_cu12-12.4.5.8-py3-none-manylinux2014_x86_64.whl (363.4 MB)\n",
      "\u001b[2K   \u001b[90m━━━━━━━━━━━━━━━━━━━━━━━━━━━━━━━━━━━━━━━━\u001b[0m \u001b[32m363.4/363.4 MB\u001b[0m \u001b[31m4.5 MB/s\u001b[0m eta \u001b[36m0:00:00\u001b[0m\n",
      "\u001b[?25hDownloading nvidia_cuda_cupti_cu12-12.4.127-py3-none-manylinux2014_x86_64.whl (13.8 MB)\n",
      "\u001b[2K   \u001b[90m━━━━━━━━━━━━━━━━━━━━━━━━━━━━━━━━━━━━━━━━\u001b[0m \u001b[32m13.8/13.8 MB\u001b[0m \u001b[31m76.7 MB/s\u001b[0m eta \u001b[36m0:00:00\u001b[0m\n",
      "\u001b[?25hDownloading nvidia_cuda_nvrtc_cu12-12.4.127-py3-none-manylinux2014_x86_64.whl (24.6 MB)\n",
      "\u001b[2K   \u001b[90m━━━━━━━━━━━━━━━━━━━━━━━━━━━━━━━━━━━━━━━━\u001b[0m \u001b[32m24.6/24.6 MB\u001b[0m \u001b[31m57.6 MB/s\u001b[0m eta \u001b[36m0:00:00\u001b[0m\n",
      "\u001b[?25hDownloading nvidia_cuda_runtime_cu12-12.4.127-py3-none-manylinux2014_x86_64.whl (883 kB)\n",
      "\u001b[2K   \u001b[90m━━━━━━━━━━━━━━━━━━━━━━━━━━━━━━━━━━━━━━━━\u001b[0m \u001b[32m883.7/883.7 kB\u001b[0m \u001b[31m37.5 MB/s\u001b[0m eta \u001b[36m0:00:00\u001b[0m\n",
      "\u001b[?25hDownloading nvidia_cudnn_cu12-9.1.0.70-py3-none-manylinux2014_x86_64.whl (664.8 MB)\n",
      "\u001b[2K   \u001b[90m━━━━━━━━━━━━━━━━━━━━━━━━━━━━━━━━━━━━━━━━\u001b[0m \u001b[32m664.8/664.8 MB\u001b[0m \u001b[31m2.2 MB/s\u001b[0m eta \u001b[36m0:00:00\u001b[0m\n",
      "\u001b[?25hDownloading nvidia_cufft_cu12-11.2.1.3-py3-none-manylinux2014_x86_64.whl (211.5 MB)\n",
      "\u001b[2K   \u001b[90m━━━━━━━━━━━━━━━━━━━━━━━━━━━━━━━━━━━━━━━━\u001b[0m \u001b[32m211.5/211.5 MB\u001b[0m \u001b[31m6.9 MB/s\u001b[0m eta \u001b[36m0:00:00\u001b[0m\n",
      "\u001b[?25hDownloading nvidia_curand_cu12-10.3.5.147-py3-none-manylinux2014_x86_64.whl (56.3 MB)\n",
      "\u001b[2K   \u001b[90m━━━━━━━━━━━━━━━━━━━━━━━━━━━━━━━━━━━━━━━━\u001b[0m \u001b[32m56.3/56.3 MB\u001b[0m \u001b[31m13.5 MB/s\u001b[0m eta \u001b[36m0:00:00\u001b[0m\n",
      "\u001b[?25hDownloading nvidia_cusolver_cu12-11.6.1.9-py3-none-manylinux2014_x86_64.whl (127.9 MB)\n",
      "\u001b[2K   \u001b[90m━━━━━━━━━━━━━━━━━━━━━━━━━━━━━━━━━━━━━━━━\u001b[0m \u001b[32m127.9/127.9 MB\u001b[0m \u001b[31m7.3 MB/s\u001b[0m eta \u001b[36m0:00:00\u001b[0m\n",
      "\u001b[?25hDownloading nvidia_cusparse_cu12-12.3.1.170-py3-none-manylinux2014_x86_64.whl (207.5 MB)\n",
      "\u001b[2K   \u001b[90m━━━━━━━━━━━━━━━━━━━━━━━━━━━━━━━━━━━━━━━━\u001b[0m \u001b[32m207.5/207.5 MB\u001b[0m \u001b[31m6.5 MB/s\u001b[0m eta \u001b[36m0:00:00\u001b[0m\n",
      "\u001b[?25hDownloading nvidia_nccl_cu12-2.21.5-py3-none-manylinux2014_x86_64.whl (188.7 MB)\n",
      "\u001b[2K   \u001b[90m━━━━━━━━━━━━━━━━━━━━━━━━━━━━━━━━━━━━━━━━\u001b[0m \u001b[32m188.7/188.7 MB\u001b[0m \u001b[31m5.8 MB/s\u001b[0m eta \u001b[36m0:00:00\u001b[0m\n",
      "\u001b[?25hDownloading nvidia_nvjitlink_cu12-12.4.127-py3-none-manylinux2014_x86_64.whl (21.1 MB)\n",
      "\u001b[2K   \u001b[90m━━━━━━━━━━━━━━━━━━━━━━━━━━━━━━━━━━━━━━━━\u001b[0m \u001b[32m21.1/21.1 MB\u001b[0m \u001b[31m59.6 MB/s\u001b[0m eta \u001b[36m0:00:00\u001b[0m\n",
      "\u001b[?25hInstalling collected packages: pypdfium2, nvidia-nvjitlink-cu12, nvidia-nccl-cu12, nvidia-curand-cu12, nvidia-cufft-cu12, nvidia-cuda-runtime-cu12, nvidia-cuda-nvrtc-cu12, nvidia-cuda-cupti-cu12, nvidia-cublas-cu12, nvidia-cusparse-cu12, nvidia-cudnn-cu12, pdfminer.six, nvidia-cusolver-cu12, pdfplumber\n",
      "  Attempting uninstall: nvidia-nvjitlink-cu12\n",
      "    Found existing installation: nvidia-nvjitlink-cu12 12.5.82\n",
      "    Uninstalling nvidia-nvjitlink-cu12-12.5.82:\n",
      "      Successfully uninstalled nvidia-nvjitlink-cu12-12.5.82\n",
      "  Attempting uninstall: nvidia-nccl-cu12\n",
      "    Found existing installation: nvidia-nccl-cu12 2.23.4\n",
      "    Uninstalling nvidia-nccl-cu12-2.23.4:\n",
      "      Successfully uninstalled nvidia-nccl-cu12-2.23.4\n",
      "  Attempting uninstall: nvidia-curand-cu12\n",
      "    Found existing installation: nvidia-curand-cu12 10.3.6.82\n",
      "    Uninstalling nvidia-curand-cu12-10.3.6.82:\n",
      "      Successfully uninstalled nvidia-curand-cu12-10.3.6.82\n",
      "  Attempting uninstall: nvidia-cufft-cu12\n",
      "    Found existing installation: nvidia-cufft-cu12 11.2.3.61\n",
      "    Uninstalling nvidia-cufft-cu12-11.2.3.61:\n",
      "      Successfully uninstalled nvidia-cufft-cu12-11.2.3.61\n",
      "  Attempting uninstall: nvidia-cuda-runtime-cu12\n",
      "    Found existing installation: nvidia-cuda-runtime-cu12 12.5.82\n",
      "    Uninstalling nvidia-cuda-runtime-cu12-12.5.82:\n",
      "      Successfully uninstalled nvidia-cuda-runtime-cu12-12.5.82\n",
      "  Attempting uninstall: nvidia-cuda-nvrtc-cu12\n",
      "    Found existing installation: nvidia-cuda-nvrtc-cu12 12.5.82\n",
      "    Uninstalling nvidia-cuda-nvrtc-cu12-12.5.82:\n",
      "      Successfully uninstalled nvidia-cuda-nvrtc-cu12-12.5.82\n",
      "  Attempting uninstall: nvidia-cuda-cupti-cu12\n",
      "    Found existing installation: nvidia-cuda-cupti-cu12 12.5.82\n",
      "    Uninstalling nvidia-cuda-cupti-cu12-12.5.82:\n",
      "      Successfully uninstalled nvidia-cuda-cupti-cu12-12.5.82\n",
      "  Attempting uninstall: nvidia-cublas-cu12\n",
      "    Found existing installation: nvidia-cublas-cu12 12.5.3.2\n",
      "    Uninstalling nvidia-cublas-cu12-12.5.3.2:\n",
      "      Successfully uninstalled nvidia-cublas-cu12-12.5.3.2\n",
      "  Attempting uninstall: nvidia-cusparse-cu12\n",
      "    Found existing installation: nvidia-cusparse-cu12 12.5.1.3\n",
      "    Uninstalling nvidia-cusparse-cu12-12.5.1.3:\n",
      "      Successfully uninstalled nvidia-cusparse-cu12-12.5.1.3\n",
      "  Attempting uninstall: nvidia-cudnn-cu12\n",
      "    Found existing installation: nvidia-cudnn-cu12 9.3.0.75\n",
      "    Uninstalling nvidia-cudnn-cu12-9.3.0.75:\n",
      "      Successfully uninstalled nvidia-cudnn-cu12-9.3.0.75\n",
      "  Attempting uninstall: nvidia-cusolver-cu12\n",
      "    Found existing installation: nvidia-cusolver-cu12 11.6.3.83\n",
      "    Uninstalling nvidia-cusolver-cu12-11.6.3.83:\n",
      "      Successfully uninstalled nvidia-cusolver-cu12-11.6.3.83\n",
      "Successfully installed nvidia-cublas-cu12-12.4.5.8 nvidia-cuda-cupti-cu12-12.4.127 nvidia-cuda-nvrtc-cu12-12.4.127 nvidia-cuda-runtime-cu12-12.4.127 nvidia-cudnn-cu12-9.1.0.70 nvidia-cufft-cu12-11.2.1.3 nvidia-curand-cu12-10.3.5.147 nvidia-cusolver-cu12-11.6.1.9 nvidia-cusparse-cu12-12.3.1.170 nvidia-nccl-cu12-2.21.5 nvidia-nvjitlink-cu12-12.4.127 pdfminer.six-20250506 pdfplumber-0.11.7 pypdfium2-4.30.0\n"
     ]
    }
   ],
   "source": [
    "!pip install pdfplumber sentence-transformers numpy"
   ]
  },
  {
   "cell_type": "markdown",
   "metadata": {
    "id": "ZUA706iCXPCf"
   },
   "source": [
    "## Step 1 — Document Text Extraction\n",
    "We start by extracting text from a PDF file using `pdfplumber`.\n",
    "\n",
    "**Inputs:**\n",
    "- `pdf_path` — Path to the PDF file.\n",
    "\n",
    "**Outputs:**\n",
    "- `text` — Extracted text from all pages.\n"
   ]
  },
  {
   "cell_type": "code",
   "execution_count": 6,
   "metadata": {
    "colab": {
     "base_uri": "https://localhost:8080/"
    },
    "id": "xWzBjxSPXDN5",
    "outputId": "6669b6ff-f9b4-4188-9248-54f0c33d1adc"
   },
   "outputs": [
    {
     "name": "stderr",
     "output_type": "stream",
     "text": [
      "WARNING:pdfminer.pdffont:Could get FontBBox from font descriptor because None cannot be parsed as 4 floats\n",
      "WARNING:pdfminer.pdffont:Could get FontBBox from font descriptor because None cannot be parsed as 4 floats\n"
     ]
    },
    {
     "name": "stdout",
     "output_type": "stream",
     "text": [
      "AI Agent Project Report: Voice-Based Ride\n",
      "Booking System\n",
      "Executive Summary\n",
      "This project presents an innovative AI agent solution that addresses digital accessibility\n",
      "barriers in transportation services through voice-only ride booking capabilities. The\n",
      "system leverages conversational AI and function-calling architecture to serve\n",
      "underserved populations including illiterate users, visually impaired individuals, and\n",
      "elderly citizens.\n",
      "1. Problem Statement\n",
      "Core Challenge: Digital Exclusion in Transpo\n"
     ]
    }
   ],
   "source": [
    "import pdfplumber\n",
    "\n",
    "pdf_path = \"/content/AI Agent Project Report_ Voice-Based Ride Booking System.pdf\"\n",
    "with pdfplumber.open(pdf_path) as pdf:\n",
    "    text = \"\".join([page.extract_text() for page in pdf.pages])\n",
    "\n",
    "print(text[:500])  # preview first 500 characters\n"
   ]
  },
  {
   "cell_type": "markdown",
   "metadata": {
    "id": "k_zCG0bbXkCh"
   },
   "source": [
    "## Step 2 — Generating Unique IDs\n",
    "Sometimes we may want to assign unique IDs to chunks or documents.\n",
    "Here we use `uuid-utils` to generate a random UUID.\n"
   ]
  },
  {
   "cell_type": "code",
   "execution_count": 5,
   "metadata": {
    "colab": {
     "base_uri": "https://localhost:8080/"
    },
    "id": "rqfFDq0EXknE",
    "outputId": "93000af7-99ea-4665-9456-1e10733d0322"
   },
   "outputs": [
    {
     "name": "stdout",
     "output_type": "stream",
     "text": [
      "Collecting uuid-utils\n",
      "  Downloading uuid_utils-0.11.0-cp39-abi3-manylinux_2_17_x86_64.manylinux2014_x86_64.whl.metadata (4.7 kB)\n",
      "Downloading uuid_utils-0.11.0-cp39-abi3-manylinux_2_17_x86_64.manylinux2014_x86_64.whl (332 kB)\n",
      "\u001b[2K   \u001b[90m━━━━━━━━━━━━━━━━━━━━━━━━━━━━━━━━━━━━━━━━\u001b[0m \u001b[32m332.2/332.2 kB\u001b[0m \u001b[31m4.7 MB/s\u001b[0m eta \u001b[36m0:00:00\u001b[0m\n",
      "\u001b[?25hInstalling collected packages: uuid-utils\n",
      "Successfully installed uuid-utils-0.11.0\n"
     ]
    }
   ],
   "source": [
    "!pip install uuid-utils\n"
   ]
  },
  {
   "cell_type": "code",
   "execution_count": 7,
   "metadata": {
    "colab": {
     "base_uri": "https://localhost:8080/"
    },
    "id": "u0mOMjf-XmyN",
    "outputId": "8aa8dc73-cc47-4d07-9084-84fa6e896acc"
   },
   "outputs": [
    {
     "name": "stdout",
     "output_type": "stream",
     "text": [
      "3cfbf7e4-6400-4cdf-93e3-233678138da2\n"
     ]
    }
   ],
   "source": [
    "import uuid_utils as uuid\n",
    "id = uuid.uuid4()\n",
    "print(str(id))\n"
   ]
  },
  {
   "cell_type": "markdown",
   "metadata": {
    "id": "9DUCRDbFXwlu"
   },
   "source": [
    "## Step 3 — Chunking with Overlap\n",
    "We split the document text into smaller chunks, allowing overlaps for context preservation.\n",
    "\n",
    "**Function:** `chunk_overlap(text, chunk_size, overlap)`\n",
    "- `text` — Full text\n",
    "- `chunk_size` — Length of each chunk\n",
    "- `overlap` — Number of overlapping characters between chunks\n"
   ]
  },
  {
   "cell_type": "code",
   "execution_count": 8,
   "metadata": {
    "id": "gXtlo7u7Xubl"
   },
   "outputs": [],
   "source": [
    "def chunk_overlap(text, chunk_size, overlap):\n",
    "    \"\"\"\n",
    "    Splits text into chunks of given size with overlaps.\n",
    "\n",
    "    Args:\n",
    "        text (str): Full document text.\n",
    "        chunk_size (int): Size of each chunk in characters.\n",
    "        overlap (int): Number of characters overlapping between chunks.\n",
    "\n",
    "    Returns:\n",
    "        dict: Mapping from chunk index to chunk text.\n",
    "    \"\"\"\n",
    "    chunks = {}\n",
    "    start = 0\n",
    "    while start < len(text):\n",
    "        chunk_id = str(uuid.uuid4())\n",
    "        end = start + chunk_size\n",
    "        chunks[chunk_id] = text[start:end]\n",
    "        start = end - overlap\n",
    "    return chunks\n"
   ]
  },
  {
   "cell_type": "markdown",
   "metadata": {
    "id": "3s2WnDYUYRHz"
   },
   "source": [
    "### Apply chunking\n",
    "We apply our chunking function to the extracted text.\n"
   ]
  },
  {
   "cell_type": "code",
   "execution_count": 9,
   "metadata": {
    "colab": {
     "base_uri": "https://localhost:8080/"
    },
    "id": "kqb4XBSNYOmj",
    "outputId": "3e61a5d2-b73e-419e-fd3c-d9772c5bd26b"
   },
   "outputs": [
    {
     "data": {
      "text/plain": [
       "(15,\n",
       " [('46311a04-6989-4a29-b9e1-d19b3bd1786d',\n",
       "   'AI Agent Project Report: Voice-Based Ride\\nBooking System\\nExecutive Summary\\nThis project presents an innovative AI agent solution that addresses digital accessibility\\nbarriers in transportation services through voice-only ride booking capabilities. The\\nsystem leverages conversational AI and function-calling architecture to serve\\nunderserved populations including illiterate users, visually impaired individuals, and\\nelderly citizens.\\n1. Problem Statement\\nCore Challenge: Digital Exclusion in Transpo'),\n",
       "  ('efe8d474-ea85-4846-bcc8-d871ae756863',\n",
       "   \"ement\\nCore Challenge: Digital Exclusion in Transportation\\n● Target Population: 72% of India's population with limited digital literacy\\n● Global Impact: 2.2 billion visually impaired individuals worldwide\\n● Pain Points: Complex app interfaces, visual dependency, smartphone barriers\\nCurrent System Limitations\\n● Heavy reliance on visual interfaces and text input\\n● Multi-step navigation requirements\\n● No alternative channels for non-smartphone users\\n● Lack of accessibility features for disabled user\"),\n",
       "  ('602236e9-c9f7-4f40-96c4-a32e8b3f5cda',\n",
       "   '● Lack of accessibility features for disabled users2. Solution Overview\\nApproach\\nA zero-interface transportation booking system operating entirely through natural voice\\nconversations, eliminating visual and technical barriers while maintaining commercial\\nviability.\\nKey Features\\n● Natural language processing for ride booking\\n● Real-time address validation\\n● Database integration for booking persistence\\n● Error handling and conversation state management\\n● Phone and web interface support\\n3. Technica')])"
      ]
     },
     "execution_count": 9,
     "metadata": {},
     "output_type": "execute_result"
    }
   ],
   "source": [
    "chunks = chunk_overlap(text, chunk_size=500, overlap=50)\n",
    "len(chunks), list(chunks.items())[:3]\n"
   ]
  },
  {
   "cell_type": "markdown",
   "metadata": {
    "id": "btZi1SamYcf2"
   },
   "source": [
    "## Step 4 — Load Embedding Model\n",
    "We use `SentenceTransformer` to convert each chunk into a dense vector embedding.\n"
   ]
  },
  {
   "cell_type": "code",
   "execution_count": 10,
   "metadata": {
    "colab": {
     "base_uri": "https://localhost:8080/",
     "height": 493,
     "referenced_widgets": [
      "98cd30595b9b4429abf39063de8ba27e",
      "b53ec4452e044878ad4e81ae66821b88",
      "b2d729737c8b44649246f96f72956a5b",
      "aa2941855f0a4ec893577ff40423d0f7",
      "cd301e50a95f4431a218184e56b7796b",
      "ceb08b756a214d9393a1f605f9781e54",
      "2c53b91c39cd401b80f130b6a3326ac9",
      "0b36923d12934c8dbfac816ba3b6771c",
      "3eac09aecc6c4a9e91b6320e842d3789",
      "46789978a25f4eb5aff31bdf2d64e88d",
      "fd77e04f081b424388e40d3cd70795c1",
      "a48d31266da449409e15248616a0ddeb",
      "10d4588a1d864db782e1ecdf318f8dac",
      "5f979838c9424d10bb0d0c4515f14f69",
      "82a6abcc98bd43a2b574490870341fad",
      "0760013174a647b18839d0d4ca5735c7",
      "3d13d2f0f3154251a1ad688a2d4372cc",
      "afd4ba798673493ba6453afa63f6647f",
      "f165e6ee24824681a0fbf8df20a8aa27",
      "7d8dbc46661c4f27be7e5c9f0e9510c4",
      "5c236c01627a40cbb091b74da4765d12",
      "720f88a7f96f4e70b56f8a2b4204bb2d",
      "d09a693f8b504689ba9e13dfa1353a9f",
      "64e6f7276104421dbd9a3a35081c2b82",
      "75c8974439204ab293a3d5ddb50a173f",
      "64ab5b2cb00848829e1d49ee29d99a0c",
      "ac7160618c574702bfb1cc320bf8475f",
      "f0cd76d6202e45e1adcf269e0c66f1a3",
      "94c1745516e4404ca2677d8c72065951",
      "afacd80a5a4f4b2f83a2e71142856bde",
      "30eed059cfe84d11bf36ad6db1e5737b",
      "4d0267083a2849a99d8041906076fa3b",
      "941a4cc484194f2dae059af75e7b0bb6",
      "c6f4536ae2a140e5968b27f95ed2249b",
      "a5c2900dcf9645158001d0b0aff29a03",
      "5b2c0c1a713b478d9d1b3719157e3351",
      "dd28b36f7ecd4f5297142cc72319c2d3",
      "a61537a24cce494a96bd069bde0375b1",
      "0bd3ba3819154f94bb747dbb2a602ac7",
      "be7972127f9143628bf0ded3b96349e0",
      "2d351b31f0a24a9489500dd634961771",
      "782fcfe4836e4e83a59ada0aa6d0f09f",
      "f49ca0d06b6c4d1d89c45d41c7856f8e",
      "4e36084eaa0e4befa2b5d3d48f63015c",
      "60d42a10e01a48e1bedfb286dedbeca0",
      "0d9bc3913fce4d15bceb4d1ded2b7336",
      "e41c46ee16ce42b4be7394bf30c8a2e6",
      "2e9760b0f24c4b31a36647b0c40f7606",
      "97b97952de5141d28bac0e681c5f5d75",
      "0a7f5319f0c2498fa783c29a70ca7fbf",
      "6442c244a2c44c40b3ba5b43bf345f74",
      "65418a290943481880a8951134d3f03f",
      "0b334cbfec0245aaa7f328ef85ad92d8",
      "f85e4c0a06d44d40ae6d837a2e36fd49",
      "9fe8630c9391425cb1e145d6b9600b47",
      "f365c3bbcd774e8e9db8548980acec51",
      "e0e31471563c4e309baa150ba5f5fd3c",
      "cd058887f18144168f718c02eeca27ac",
      "beb4fe4db53349fda4b7c38f0ac07b82",
      "219cf14f5fd448d1b0efda328ba396ff",
      "581d0a2e56694ad3962dd60902d567cd",
      "29924dc1ec7e49948c1767716cdc0050",
      "cca9c12ba74c46f78adc05fdafe6614b",
      "45d1952553354a7d9ba5df089e4190c3",
      "4d9ea8bf0b3c493f92bdad69a3b23aa9",
      "857ec0e287cd40578749e8c0d89ce0c3",
      "c3c488017f064837895d3ef70a350063",
      "92360d2c59614e8a9785a79e1c178cd3",
      "239761cf2d3d4a169f714385fde077a3",
      "72e5a8321f814a7ebb8fa492498ab6bd",
      "08942653f0534b9e91d35c589ae1ffc8",
      "246367b79f814f0c8f5e92d6e7bd46d5",
      "604bc87d7e724d19a26b94b333ed2eac",
      "c484c5c86ffe4bb1abfa9984508445ef",
      "45ab1d6a0acd461596344b691dd3e6b9",
      "18ef427bad2d410d8965e2f9e704a8e4",
      "95905a62f6d545878a5cbd3ac21caf3c",
      "d3a07b3c433541b3a5967704d1248497",
      "6f3b1b798d784a55b4d7d6e3a36712b9",
      "b3ffa1dd16434ff1a690fb7152d39646",
      "8ac11bb8deb74ad98ce329f293802cb2",
      "859fe03bd6be439185ccb8d71eacc80a",
      "420c088d25164dc5908e7991521e657b",
      "23c1bece432f43abbbd73bfe0338c9b5",
      "d9e7401646e34671abb1de0ed92b57e9",
      "a38880476ce2495f833539b51bac594f",
      "580ff23a953a405e922da7605f4883cf",
      "15e6e502bdb4402894964bbc3e535db6",
      "56061d9aa79146bc9183bb95b0f6b3ad",
      "b04a6b4acd7649a4899081471f294858",
      "2223f945ba704d00a58ca6b58fd1f1d4",
      "68c9869ab3044243863e07f937f46fae",
      "77342e893e8848f1980b2f7ab71e1416",
      "57cf976317d64e4ea4cdad6c108e5500",
      "f990a529b08a4c478b20dd13a72fab96",
      "be0e84cfd0084dbf8acbec70442b7e2c",
      "e4433305055a45eabf1d48df3a4c9206",
      "3eb2712f439e4602a13d6ba60ea44033",
      "5429cfffbe6d4580889e8377273f3910",
      "019761872e084bc9b035b40dff525aa0",
      "4a3457026d0a4ec1b9388ae25bd0f458",
      "92456928ddb640688b7f476377485833",
      "d491e6f7c40e443599c9656637d13f10",
      "e20575977dc142be80f8edc2e9dea61f",
      "3ffaa1fbe5c947c19527b42408454a60",
      "67ef6b43b75f48bdad23ceb371a549ae",
      "91a7b7916d374364b93d0837edc7b98d",
      "ba7151d004a44238bb6a1cc38b1cc505",
      "a8442240c7084f1c85454581f7019d97",
      "bc3956a70ead4fadaa15111dd832dcbf",
      "f18d1a6b29184dcea6fc18ef8c1587f2",
      "4122fca9310b4ace8085d16463fce015",
      "38914b80f2d046e793eb4e02c1eb4516",
      "e6601d2416b34b63a23f5350ef1068fa",
      "5bcef9d29f744af0b6384ae6e54e3470",
      "52788f78d9b54a2998628d1179476c41",
      "f1cb69d24eca4997bc44159b393d53aa",
      "93bf84911c414b22be420f3c834ba522",
      "0298ce7885ae4ed9aaba1bf55096e6b7",
      "e04b8d207146420cbffe98c997fca316",
      "95ebb0234cf64b459c50757dad35da4e"
     ]
    },
    "id": "eZbp-Aj1YVf0",
    "outputId": "9a1e0d46-ce42-4ee1-8d9b-68d88cdbad4d"
   },
   "outputs": [
    {
     "name": "stderr",
     "output_type": "stream",
     "text": [
      "/usr/local/lib/python3.11/dist-packages/huggingface_hub/utils/_auth.py:94: UserWarning: \n",
      "The secret `HF_TOKEN` does not exist in your Colab secrets.\n",
      "To authenticate with the Hugging Face Hub, create a token in your settings tab (https://huggingface.co/settings/tokens), set it as secret in your Google Colab and restart your session.\n",
      "You will be able to reuse this secret in all of your notebooks.\n",
      "Please note that authentication is recommended but still optional to access public models or datasets.\n",
      "  warnings.warn(\n"
     ]
    },
    {
     "data": {
      "application/vnd.jupyter.widget-view+json": {
       "model_id": "98cd30595b9b4429abf39063de8ba27e",
       "version_major": 2,
       "version_minor": 0
      },
      "text/plain": [
       "modules.json:   0%|          | 0.00/349 [00:00<?, ?B/s]"
      ]
     },
     "metadata": {},
     "output_type": "display_data"
    },
    {
     "data": {
      "application/vnd.jupyter.widget-view+json": {
       "model_id": "a48d31266da449409e15248616a0ddeb",
       "version_major": 2,
       "version_minor": 0
      },
      "text/plain": [
       "config_sentence_transformers.json:   0%|          | 0.00/116 [00:00<?, ?B/s]"
      ]
     },
     "metadata": {},
     "output_type": "display_data"
    },
    {
     "data": {
      "application/vnd.jupyter.widget-view+json": {
       "model_id": "d09a693f8b504689ba9e13dfa1353a9f",
       "version_major": 2,
       "version_minor": 0
      },
      "text/plain": [
       "README.md: 0.00B [00:00, ?B/s]"
      ]
     },
     "metadata": {},
     "output_type": "display_data"
    },
    {
     "data": {
      "application/vnd.jupyter.widget-view+json": {
       "model_id": "c6f4536ae2a140e5968b27f95ed2249b",
       "version_major": 2,
       "version_minor": 0
      },
      "text/plain": [
       "sentence_bert_config.json:   0%|          | 0.00/53.0 [00:00<?, ?B/s]"
      ]
     },
     "metadata": {},
     "output_type": "display_data"
    },
    {
     "data": {
      "application/vnd.jupyter.widget-view+json": {
       "model_id": "60d42a10e01a48e1bedfb286dedbeca0",
       "version_major": 2,
       "version_minor": 0
      },
      "text/plain": [
       "config.json:   0%|          | 0.00/612 [00:00<?, ?B/s]"
      ]
     },
     "metadata": {},
     "output_type": "display_data"
    },
    {
     "data": {
      "application/vnd.jupyter.widget-view+json": {
       "model_id": "f365c3bbcd774e8e9db8548980acec51",
       "version_major": 2,
       "version_minor": 0
      },
      "text/plain": [
       "model.safetensors:   0%|          | 0.00/90.9M [00:00<?, ?B/s]"
      ]
     },
     "metadata": {},
     "output_type": "display_data"
    },
    {
     "data": {
      "application/vnd.jupyter.widget-view+json": {
       "model_id": "c3c488017f064837895d3ef70a350063",
       "version_major": 2,
       "version_minor": 0
      },
      "text/plain": [
       "tokenizer_config.json:   0%|          | 0.00/350 [00:00<?, ?B/s]"
      ]
     },
     "metadata": {},
     "output_type": "display_data"
    },
    {
     "data": {
      "application/vnd.jupyter.widget-view+json": {
       "model_id": "d3a07b3c433541b3a5967704d1248497",
       "version_major": 2,
       "version_minor": 0
      },
      "text/plain": [
       "vocab.txt: 0.00B [00:00, ?B/s]"
      ]
     },
     "metadata": {},
     "output_type": "display_data"
    },
    {
     "data": {
      "application/vnd.jupyter.widget-view+json": {
       "model_id": "56061d9aa79146bc9183bb95b0f6b3ad",
       "version_major": 2,
       "version_minor": 0
      },
      "text/plain": [
       "tokenizer.json: 0.00B [00:00, ?B/s]"
      ]
     },
     "metadata": {},
     "output_type": "display_data"
    },
    {
     "data": {
      "application/vnd.jupyter.widget-view+json": {
       "model_id": "019761872e084bc9b035b40dff525aa0",
       "version_major": 2,
       "version_minor": 0
      },
      "text/plain": [
       "special_tokens_map.json:   0%|          | 0.00/112 [00:00<?, ?B/s]"
      ]
     },
     "metadata": {},
     "output_type": "display_data"
    },
    {
     "data": {
      "application/vnd.jupyter.widget-view+json": {
       "model_id": "f18d1a6b29184dcea6fc18ef8c1587f2",
       "version_major": 2,
       "version_minor": 0
      },
      "text/plain": [
       "config.json:   0%|          | 0.00/190 [00:00<?, ?B/s]"
      ]
     },
     "metadata": {},
     "output_type": "display_data"
    }
   ],
   "source": [
    "from sentence_transformers import SentenceTransformer\n",
    "\n",
    "model = SentenceTransformer(\"all-MiniLM-L6-v2\")\n"
   ]
  },
  {
   "cell_type": "markdown",
   "metadata": {
    "id": "Nt3brDHXYhcR"
   },
   "source": [
    "### Generate embeddings for all chunks\n",
    "We pass each chunk to the embedding model and store the resulting vectors.\n"
   ]
  },
  {
   "cell_type": "code",
   "execution_count": 11,
   "metadata": {
    "id": "J34HE3VhYfH8"
   },
   "outputs": [],
   "source": [
    "def embedd_chunks(chunks):\n",
    "    \"\"\"\n",
    "    Converts text chunks into embeddings using SentenceTransformer.\n",
    "\n",
    "    Args:\n",
    "        chunks (dict): Mapping from chunk index to text.\n",
    "\n",
    "    Returns:\n",
    "        dict: Mapping from chunk index to embedding vector.\n",
    "    \"\"\"\n",
    "    chunk_embeddings = {}\n",
    "    for idx, chunk in chunks.items():\n",
    "        chunk_embeddings[idx] = model.encode(chunk)\n",
    "    return chunk_embeddings\n",
    "\n",
    "embeddings = embedd_chunks(chunks)\n"
   ]
  },
  {
   "cell_type": "markdown",
   "metadata": {
    "id": "SOvZOjNQY6Pn"
   },
   "source": [
    "## Step 5 — Retrieve Relevant Chunks\n",
    "Given a query, we find the top-k most relevant chunks using cosine similarity.\n"
   ]
  },
  {
   "cell_type": "code",
   "execution_count": 12,
   "metadata": {
    "id": "OBZZ8yqaY0-1"
   },
   "outputs": [],
   "source": [
    "import numpy as np\n",
    "\n",
    "def retrieve_chunks(query, k):\n",
    "    \"\"\"\n",
    "    Retrieves the top-k most relevant chunks for a query.\n",
    "\n",
    "    Args:\n",
    "        query (str): The user query.\n",
    "        k (int): Number of chunks to retrieve.\n",
    "\n",
    "    Returns:\n",
    "        dict: Mapping of chunk index to similarity score.\n",
    "    \"\"\"\n",
    "    query_embedd = model.encode([query])[0]\n",
    "    similarity = {}\n",
    "    for idx, emb in embeddings.items():\n",
    "        sim = np.dot(query_embedd, emb) / (np.linalg.norm(query_embedd) * np.linalg.norm(emb))\n",
    "        similarity[idx] = sim\n",
    "    sorted_similarity = sorted(similarity.items(), key = lambda x: x[1], reverse = True)\n",
    "    top_chunks = [chunks[id] for id, _ in sorted_similarity[:k]]\n",
    "    return top_chunks\n"
   ]
  },
  {
   "cell_type": "markdown",
   "metadata": {
    "id": "nLPrrTapZpJQ"
   },
   "source": [
    "### Test retrieval with a sample query\n",
    "We query the system and print the top-k chunks.\n"
   ]
  },
  {
   "cell_type": "code",
   "execution_count": 14,
   "metadata": {
    "colab": {
     "base_uri": "https://localhost:8080/"
    },
    "id": "LxuGFu3RZmA2",
    "outputId": "99798f05-e67d-4f22-8a25-0238bb49f4a0"
   },
   "outputs": [
    {
     "data": {
      "text/plain": [
       "['on: Access to 30-40% additional population\\n● Cost Reduction: 80% decrease in customer service costs\\n● User Experience: Zero-training required for system usage8. Demo Implementation\\nExperience our AI-powered ride booking assistant through both phone and web\\ninterfaces.\\n● 📞 Phone Call Demo: Watch a real 3-minute call showcasing end-to-end ride\\nbooking with natural language processing, error handling, and address validation.\\n👉 Drive Video Link – Ride_booking_video.mp4\\n● 🌐 Streamlit Web Demo: Intera',\n",
       " '● Lack of accessibility features for disabled users2. Solution Overview\\nApproach\\nA zero-interface transportation booking system operating entirely through natural voice\\nconversations, eliminating visual and technical barriers while maintaining commercial\\nviability.\\nKey Features\\n● Natural language processing for ride booking\\n● Real-time address validation\\n● Database integration for booking persistence\\n● Error handling and conversation state management\\n● Phone and web interface support\\n3. Technica',\n",
       " 'AI Agent Project Report: Voice-Based Ride\\nBooking System\\nExecutive Summary\\nThis project presents an innovative AI agent solution that addresses digital accessibility\\nbarriers in transportation services through voice-only ride booking capabilities. The\\nsystem leverages conversational AI and function-calling architecture to serve\\nunderserved populations including illiterate users, visually impaired individuals, and\\nelderly citizens.\\n1. Problem Statement\\nCore Challenge: Digital Exclusion in Transpo']"
      ]
     },
     "execution_count": 14,
     "metadata": {},
     "output_type": "execute_result"
    }
   ],
   "source": [
    "query = \"how to book ride?\"\n",
    "k = 3\n",
    "retrieve_chunks(query, k)\n"
   ]
  },
  {
   "cell_type": "markdown",
   "metadata": {
    "id": "7j-BL1Loa4sb"
   },
   "source": [
    "## Step 7 — LLM Answer Generation with Groq API\n",
    "\n",
    "Now that we can retrieve the most relevant chunks, let's use an LLM to generate an answer.  \n",
    "We'll use Groq's `llama-3.3-70b-versatile` model, passing in both the **query** and the **retrieved context**.\n",
    "\n",
    "**Process:**\n",
    "1. Retrieve top-k relevant chunks from our knowledge base.\n",
    "2. Combine them into a single context string.\n",
    "3. Pass query + context to Groq LLM for final answer.\n"
   ]
  },
  {
   "cell_type": "code",
   "execution_count": 15,
   "metadata": {
    "colab": {
     "base_uri": "https://localhost:8080/"
    },
    "id": "WO1njvOPa4Pj",
    "outputId": "22e32047-af4b-4e8a-fdd6-a2d010569d3a"
   },
   "outputs": [
    {
     "name": "stdout",
     "output_type": "stream",
     "text": [
      "Collecting groq\n",
      "  Downloading groq-0.31.0-py3-none-any.whl.metadata (16 kB)\n",
      "Requirement already satisfied: anyio<5,>=3.5.0 in /usr/local/lib/python3.11/dist-packages (from groq) (4.10.0)\n",
      "Requirement already satisfied: distro<2,>=1.7.0 in /usr/local/lib/python3.11/dist-packages (from groq) (1.9.0)\n",
      "Requirement already satisfied: httpx<1,>=0.23.0 in /usr/local/lib/python3.11/dist-packages (from groq) (0.28.1)\n",
      "Requirement already satisfied: pydantic<3,>=1.9.0 in /usr/local/lib/python3.11/dist-packages (from groq) (2.11.7)\n",
      "Requirement already satisfied: sniffio in /usr/local/lib/python3.11/dist-packages (from groq) (1.3.1)\n",
      "Requirement already satisfied: typing-extensions<5,>=4.10 in /usr/local/lib/python3.11/dist-packages (from groq) (4.14.1)\n",
      "Requirement already satisfied: idna>=2.8 in /usr/local/lib/python3.11/dist-packages (from anyio<5,>=3.5.0->groq) (3.10)\n",
      "Requirement already satisfied: certifi in /usr/local/lib/python3.11/dist-packages (from httpx<1,>=0.23.0->groq) (2025.8.3)\n",
      "Requirement already satisfied: httpcore==1.* in /usr/local/lib/python3.11/dist-packages (from httpx<1,>=0.23.0->groq) (1.0.9)\n",
      "Requirement already satisfied: h11>=0.16 in /usr/local/lib/python3.11/dist-packages (from httpcore==1.*->httpx<1,>=0.23.0->groq) (0.16.0)\n",
      "Requirement already satisfied: annotated-types>=0.6.0 in /usr/local/lib/python3.11/dist-packages (from pydantic<3,>=1.9.0->groq) (0.7.0)\n",
      "Requirement already satisfied: pydantic-core==2.33.2 in /usr/local/lib/python3.11/dist-packages (from pydantic<3,>=1.9.0->groq) (2.33.2)\n",
      "Requirement already satisfied: typing-inspection>=0.4.0 in /usr/local/lib/python3.11/dist-packages (from pydantic<3,>=1.9.0->groq) (0.4.1)\n",
      "Downloading groq-0.31.0-py3-none-any.whl (131 kB)\n",
      "\u001b[2K   \u001b[90m━━━━━━━━━━━━━━━━━━━━━━━━━━━━━━━━━━━━━━━━\u001b[0m \u001b[32m131.4/131.4 kB\u001b[0m \u001b[31m3.3 MB/s\u001b[0m eta \u001b[36m0:00:00\u001b[0m\n",
      "\u001b[?25hInstalling collected packages: groq\n",
      "Successfully installed groq-0.31.0\n"
     ]
    }
   ],
   "source": [
    "!pip install groq"
   ]
  },
  {
   "cell_type": "code",
   "execution_count": 17,
   "metadata": {
    "id": "Yy-6eChFbHR-"
   },
   "outputs": [],
   "source": [
    "from groq import Groq\n",
    "\n",
    "# Initialize Groq client with your API key\n",
    "api_key = \"Your Groq Api Key\"  # Replace with your actual key\n",
    "client = Groq(api_key=api_key)\n",
    "\n",
    "def generate_answer(query, k=3):\n",
    "    \"\"\"\n",
    "    Generates an answer using Groq LLM based on retrieved chunks.\n",
    "\n",
    "    Args:\n",
    "        query (str): The user's question.\n",
    "        k (int): Number of top chunks to use as context.\n",
    "\n",
    "    Returns:\n",
    "        str: The LLM-generated answer.\n",
    "    \"\"\"\n",
    "\n",
    "    # Step 1: Retrieve top-k chunks\n",
    "    retrieve_chunk = retrieve_chunks(query,k=3)\n",
    "\n",
    "    # Step 2: Build context from retrieved chunks\n",
    "    retrieve_context = \"\\n\".join(retrieve_chunk)\n",
    "\n",
    "    # Step 3: Create prompt for the LLM\n",
    "    prompt = f\"\"\"\n",
    "    You are an help full assistent, who help other to answer query from the given context.\n",
    "    query: {query}\n",
    "    context: {retrieve_context}\n",
    "\n",
    "    If you dont find answer from the context, politely say so.\n",
    "    \"\"\"\n",
    "\n",
    "    # Step 4: Get completion from Groq LLM\n",
    "    chat_completion = client.chat.completions.create(\n",
    "        messages=[\n",
    "            # Set an optional system message. This sets the behavior of the\n",
    "            # assistant and can be used to provide specific instructions for\n",
    "            # how it should behave throughout the conversation.\n",
    "            {\n",
    "                \"role\": \"system\",\n",
    "                \"content\": \"You are a helpful assistant.\"\n",
    "            },\n",
    "            # Set a user message for the assistant to respond to.\n",
    "            {\n",
    "                \"role\": \"user\",\n",
    "                \"content\": prompt,\n",
    "            }\n",
    "        ],\n",
    "\n",
    "        # The language model which will generate the completion.\n",
    "        model=\"llama-3.3-70b-versatile\"\n",
    "    )\n",
    "    return chat_completion.choices[0].message.content"
   ]
  },
  {
   "cell_type": "code",
   "execution_count": 20,
   "metadata": {
    "colab": {
     "base_uri": "https://localhost:8080/"
    },
    "id": "NSnEBi98b9m9",
    "outputId": "bbaa7c25-bce2-47c4-ae90-e135b5acf21f"
   },
   "outputs": [
    {
     "name": "stdout",
     "output_type": "stream",
     "text": [
      "To book a ride, you can use the AI-powered ride booking assistant through either a phone call or a web interface. The system uses natural language processing, allowing you to book a ride by having a conversation. \n",
      "\n",
      "Here's a step-by-step guide based on the context provided:\n",
      "\n",
      "1. **Phone Interface**: You can book a ride by making a phone call. The system will guide you through the process using natural language processing. You can watch a demo of this process through the provided video link, \"Ride_booking_video.mp4\".\n",
      "\n",
      "2. **Web Interface**: The system also supports a web interface, although the details on how to use it for booking a ride are not fully specified in the provided context. It mentions a \"Streamlit Web Demo\" but does not outline the steps for using it to book a ride.\n",
      "\n",
      "For more detailed, step-by-step instructions on how to book a ride using either the phone or web interface, I would recommend referring to the specific demo implementations or user guides provided by the system, as the context does not fully elaborate on these steps.\n"
     ]
    }
   ],
   "source": [
    "# Example test\n",
    "query = \"how to book ride?\"\n",
    "print(generate_answer(query, k=3))"
   ]
  },
  {
   "cell_type": "markdown",
   "metadata": {
    "id": "h4Tgg-1waRQC"
   },
   "source": [
    "## 📌 Summary & Next Steps\n",
    "\n",
    "In this notebook, we built a **Retrieval-Augmented Generation (RAG)** system from scratch:\n",
    "\n",
    "1. **Document Loading** — Extracted text from a file for knowledge base creation.  \n",
    "2. **Chunking** — Split the text into overlapping chunks for better retrieval.  \n",
    "3. **Embedding** — Converted each chunk into a vector representation using a sentence transformer model.  \n",
    "4. **Similarity Search** — Found the most relevant chunks for a query using cosine similarity.  \n",
    "5. **Retrieval Pipeline** — Built a function to fetch top-k chunks as context.  \n",
    "6. **LLM Integration** — Used Groq's `llama-3.3-70b-versatile` model to generate final answers from retrieved context.  \n",
    "\n",
    "---\n",
    "\n",
    "### ✅ What We Achieved\n",
    "- Created a **minimal but complete** RAG pipeline without heavy frameworks.\n",
    "- Kept the process transparent so each step is easy to understand and modify.\n",
    "- Enabled the system to **politely handle** cases where the answer is not found in the context.\n",
    "\n",
    "---\n",
    "\n",
    "### 🚀 Next Steps\n",
    "- **Switch to a Vector Database** (FAISS, ChromaDB, Weaviate) for faster and scalable retrieval.\n",
    "- Experiment with **different embedding models** for better semantic matching.\n",
    "- Add **multi-document support** to handle a larger knowledge base.\n",
    "- Fine-tune or prompt-engineer the LLM for domain-specific tasks.\n",
    "- Deploy as an **API or web app** for interactive querying.\n",
    "\n",
    "---\n",
    "\n",
    "💡 *By understanding each step, you now have the foundation to build more advanced RAG systems for real-world applications.*\n"
   ]
  },
  {
   "cell_type": "code",
   "execution_count": null,
   "metadata": {
    "id": "X-oDRT6wZs0m"
   },
   "outputs": [],
   "source": []
  }
 ],
 "metadata": {
  "colab": {
   "provenance": []
  },
  "kernelspec": {
   "display_name": "Python 3",
   "name": "python3"
  },
  "language_info": {
   "name": "python"
  }
 },
 "nbformat": 4,
 "nbformat_minor": 0
}
